{
 "cells": [
  {
   "cell_type": "markdown",
   "metadata": {
    "collapsed": true
   },
   "source": [
    "# Simulering av aksjonspotensialet med virrevandring av ioner\n",
    "\n",
    "Prosjekt 3 i TMA4320 våren 2019 - av Thorvald Ballestad, Jonas Bueie og Herman Sletmoen (gruppe 3)\n",
    "\n",
    "## Oppgave 2 - diffusjonslikningen\n",
    "\n",
    "### Oppgave 2.1 - eksponensiell løsning\n",
    "\n",
    "### Oppgave 2.2.1 - diffusjon fra initiell punktsamling\n",
    "\n",
    "### Oppgave 2.2.2 - fysisk tolkning av diffusjonskoeffisienten\n",
    "\n",
    "### Oppgave 2.2.3 - diffusjon fra vilkårlig initiell spredning \n",
    "\n",
    "## Oppgave 3 - virrevandring uten potensiale\n",
    "\n",
    "## Oppgave 5 - virrevandring i tidsuavhengig potensiale\n",
    "\n",
    "### Oppgave 5.1 - lineært potensiale\n",
    "\n",
    "### Oppgave 5.2 - bokspotensiale\n",
    "\n",
    "### Oppgave 5.3 - lineært potensiale med flate endestykker\n",
    "\n",
    "## Oppgave 7 - virrevandring av ioner i cellemembran med tidsavhengig potensiale\n",
    "\n",
    "### Oppgave 7.1 - identiske ionekanalpotensialer\n",
    "\n",
    "### Oppgave 7.2 - ulike ionekanalpotensialer\n",
    "\n",
    "## Oppgave 8 - simulering av aksjonspotensialet \n",
    "\n",
    "### Oppgave 8.1 - uten ionepumpe\n",
    "\n",
    "### Oppgave 8.2 - med ionepumpe"
   ]
  }
 ],
 "metadata": {
  "kernelspec": {
   "display_name": "Python 3",
   "language": "python",
   "name": "python3"
  },
  "language_info": {
   "codemirror_mode": {
    "name": "ipython",
    "version": 3
   },
   "file_extension": ".py",
   "mimetype": "text/x-python",
   "name": "python",
   "nbconvert_exporter": "python",
   "pygments_lexer": "ipython3",
   "version": "3.5.3"
  }
 },
 "nbformat": 4,
 "nbformat_minor": 2
}
