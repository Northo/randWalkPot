{
 "cells": [
  {
   "cell_type": "markdown",
   "metadata": {},
   "source": [
    "# Simulering av aksjonspotensialet med virrevandring av ioner\n",
    "\n",
    "Prosjekt 3 i TMA4320 våren 2019 - av Thorvald Ballestad, Jonas Bueie og Herman Sletmoen (gruppe 3)\n",
    "\n",
    "## Oppgave 2 - diffusjonslikningen\n",
    "\n",
    "### Oppgave 2.1 - eksponensiell løsning\n",
    "\n",
    "### Oppgave 2.2.1 - diffusjon fra initiell punktsamling\n",
    "\n",
    "### Oppgave 2.2.2 - fysisk tolkning av diffusjonskoeffisienten\n",
    "\n",
    "### Oppgave 2.2.3 - diffusjon fra vilkårlig initiell spredning \n",
    "\n",
    "## Oppgave 3 - virrevandring uten potensiale"
   ]
  },
  {
   "cell_type": "code",
   "execution_count": null,
   "metadata": {},
   "outputs": [],
   "source": [
    "import numpy as np\n",
    "import matplotlib.pyplot as plt\n",
    "from scipy.stats import norm\n",
    "\n",
    "N = 1000\n",
    "n_steps = 100\n",
    "pos = np.zeros(N)\n",
    "\n",
    "steps = np.random.randint(0, 2, size = (n_steps, N))*2 - 1 # Generate random sequence of +1 and -1\n",
    "step  = np.sum(steps, axis=0)\n",
    "\n",
    "pos += step\n",
    "\n",
    "mu,std = norm.fit(pos)\n",
    "\n",
    "n,bin,patches = plt.hist(pos, density = True)\n",
    "\n",
    "x = np.linspace(*plt.xlim(), 100)\n",
    "p = norm.pdf(x, mu, std)\n",
    "plt.plot(x, p)"
   ]
  },
  {
   "cell_type": "markdown",
   "metadata": {},
   "source": [
    "## Oppgave 5 - virrevandring i tidsuavhengig potensiale\n",
    "\n",
    "### Oppgave 5.1 - lineært potensiale"
   ]
  },
  {
   "cell_type": "code",
   "execution_count": null,
   "metadata": {},
   "outputs": [],
   "source": [
    "N = 1000\n",
    "n_steps = 100\n",
    "pos = np.zeros(N)\n",
    "\n",
    "## Find P_left\n",
    "# When V(x) = kx, we have\n",
    "# P-/P+ = exp(-beta[V(x-h) - V(x+h)]) = exp(beta*2*k),\n",
    "# and P+ = 1/(1 + P-/P+)\n",
    "\n",
    "beta = 1\n",
    "k    = 0.2\n",
    "\n",
    "ratio = np.exp(2*beta*k)\n",
    "P_right = 1/(1 + ratio)\n",
    "\n",
    "## Generate an array of size n_steps x N where each element is either 1 or -1, representing going right or left in a step\n",
    "\n",
    "steps = np.random.rand(n_steps, N) # n_steps x N array with random values from [0, 1)\n",
    "steps = np.where(steps > P_right, -1, 1)\n",
    "step  = np.sum(steps, axis=0) # Add all the steps together, to get total movement of each particle\n",
    "\n",
    "pos += step\n",
    "\n",
    "mu,std = norm.fit(pos)\n",
    "\n",
    "n,bin,patches = plt.hist(pos, density = True)\n",
    "\n",
    "x = np.linspace(*plt.xlim(), 100)\n",
    "p = norm.pdf(x, mu, std)\n",
    "plt.plot(x, p)\n",
    "\n",
    "# Print some stats\n",
    "print(f\"P_right:\\t {P_right:.4}\")\n",
    "print(f\"Mu:     \\t {mu:.3f} \\nStd:     \\t {std:.3}\")"
   ]
  },
  {
   "cell_type": "markdown",
   "metadata": {},
   "source": [
    "### Oppgave 5.2 - bokspotensiale\n",
    "\n",
    "### Oppgave 5.3 - lineært potensiale med flate endestykker\n",
    "\n",
    "## Oppgave 7 - virrevandring av ioner i cellemembran med tidsavhengig potensiale\n",
    "\n",
    "### Oppgave 7.1 - identiske ionekanalpotensialer\n",
    "\n",
    "### Oppgave 7.2 - ulike ionekanalpotensialer\n",
    "\n",
    "## Oppgave 8 - simulering av aksjonspotensialet \n",
    "\n",
    "### Oppgave 8.1 - uten ionepumpe\n",
    "\n",
    "### Oppgave 8.2 - med ionepumpe"
   ]
  },
  {
   "cell_type": "code",
   "execution_count": null,
   "metadata": {},
   "outputs": [],
   "source": []
  }
 ],
 "metadata": {
  "kernelspec": {
   "display_name": "Python 3",
   "language": "python",
   "name": "python3"
  },
  "language_info": {
   "codemirror_mode": {
    "name": "ipython",
    "version": 3
   },
   "file_extension": ".py",
   "mimetype": "text/x-python",
   "name": "python",
   "nbconvert_exporter": "python",
   "pygments_lexer": "ipython3",
   "version": "3.7.2"
  }
 },
 "nbformat": 4,
 "nbformat_minor": 2
}
