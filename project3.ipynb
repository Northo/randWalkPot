{
 "cells": [
  {
   "cell_type": "markdown",
   "metadata": {},
   "source": [
    "# Simulering av aksjonspotensialet med virrevandring av ioner\n",
    "\n",
    "Prosjekt 3 i TMA4320 våren 2019 - av Thorvald Ballestad, Jonas Bueie og Herman Sletmoen (gruppe 3)\n",
    "\n",
    "## Oppgave 2 - diffusjonslikningen\n",
    "\n",
    "Diffusjonslikningen i én dimensjon uttrykker at den romlige distribusjonen $\\phi = \\phi(x, t)$ over posisjonen $x$ av en substans som har diffundert i en tid $t$ oppfyller\n",
    "$$\\frac{\\partial \\phi(x, t)}{\\partial t} = \\frac{\\partial}{\\partial x} \\left(D(x) \\frac{\\partial \\phi(x, t)}{\\partial x}\\right)$$\n",
    "der $D(x)$ er en generelt posisjonsavhengig diffusjonskoeffisient.\n",
    "\n",
    "### Oppgave 2.1 - eksponensiell løsning\n",
    "\n",
    "Når $D(x) = D$ er posisjonsuavhengig, reduseres diffusjonslikningen til \n",
    "$$\\frac{\\partial \\phi(x, t)}{\\partial t} = D \\frac{\\partial^2 \\phi(x, t)}{\\partial x^2}$$\n",
    "Da er\n",
    "$$\\phi(x, t) = \\frac{1}{\\sqrt{4 \\pi D t}} e^{-\\frac{(x - x_0)^2}{4 D t}}$$\n",
    "en løsning av diffusjonslikningen, siden\n",
    "$$\\frac{\\partial \\phi(x, t)}{\\partial t} = \\left(\\frac{(x-x_0)^2}{4Dt^2} - \\frac{1}{2t}\\right) \\frac{1}{\\sqrt{4 \\pi D t}} e^{-\\frac{(x-x_0)^2}{4 D t}} = \\left(\\frac{(x-x_0)^2}{4Dt^2} - \\frac{1}{2t}\\right) \\phi(x, t)$$\n",
    "og\n",
    "$$\\frac{\\partial \\phi(x, t)}{\\partial x} = -\\frac{(x-x_0)^2}{2Dt} \\frac{1}{\\sqrt{4 \\pi D t}} e^{-\\frac{(x-x_0)^2}{4 D t}} = -\\frac{(x-x_0)^2}{2Dt} \\phi(x, t)$$\n",
    "og\n",
    "$$\\frac{\\partial^2 \\phi(x, t)}{\\partial x^2} = \\left( \\frac{(x-x_0)^2}{4D^2t^2} - \\frac{1}{2Dt} \\right) \\frac{1}{\\sqrt{4 \\pi D t}} e^{-\\frac{(x-x_0)^2}{4 D t}} = \\left( \\frac{(x-x_0)^2}{4D^2t^2} - \\frac{1}{2Dt} \\right) \\phi(x, t)$$\n",
    "så\n",
    "$$\\frac{\\partial \\phi(x, t)}{\\partial t} - D \\frac{\\partial^2 \\phi(x, t)}{\\partial x^2} = \\left(\\frac{(x-x_0)^2}{4Dt^2} - \\frac{1}{2t}\\right) \\phi(x, t) - D \\left( \\frac{(x-x_0)^2}{4D^2t^2} - \\frac{1}{2Dt} \\right) \\phi(x, t) = 0$$\n",
    "\n",
    "### Oppgave 2.2.1 - diffusjon fra initiell punktsamling\n",
    "\n",
    "Vi skal nå å finne distribusjonen $\\phi(x, t)$ ved et vilkårlig tidspunkt for en initiell punktsamling i $x_0$\n",
    "$$\\phi(x, 0) = \\delta(x - x_0) = \\frac{1}{2 \\pi} \\int_{-\\infty}^{+\\infty} e^{-i w (x - x_0)} \\mathrm{d} w$$\n",
    "der $\\delta(x)$ er Diracs deltafunksjon.\n",
    "\n",
    "#### Med taylorutvikling\n",
    "\n",
    "Vi antar at distribusjonen i en gitt posisjon $x$ kan taylorutvikles om starttidspunktet $t = 0$ som\n",
    "$$\\phi(x, t) = \\sum_{n=0}^{\\infty} \\frac{t^n}{n!} \\frac{\\partial^n \\phi}{\\partial t^n}(x, 0)$$\n",
    "\n",
    "Den tidsderiverte av første orden ved et vilkårlig tidspunkt er gitt direkte ved diffusjonslikningen som\n",
    "$$\\frac{\\partial \\phi(x, t)}{\\partial t} = D \\frac{\\partial^2 \\phi(x, t)}{\\partial x^2}$$\n",
    "Ved å utnytte diffusjonslikningen og bytte derivasjonsrekkefølge, finner vi den tidsderiverte av andre orden\n",
    "$$\\frac{\\partial^2 \\phi(x, t)}{\\partial t^2} = \\frac{\\partial}{\\partial t} D \\frac{\\partial^2 \\phi(x, t)}{\\partial x^2} = D \\frac{\\partial^2}{\\partial x^2}\\frac{\\partial \\phi(x, t)}{\\partial t} = D^2 \\frac{\\partial^4 \\phi(x, t)}{\\partial x^4}$$\n",
    "Argumentet kan gjentas flere ganger, og vi får generelt\n",
    "$$\\frac{\\partial^n \\phi(x, t)}{\\partial t^n} = D^n \\frac{\\partial^{2 n} \\phi(x, t)}{\\partial x^{2 n}}$$\n",
    "Ved $t = 0$ får vi\n",
    "$$\\frac{\\partial^n \\phi}{\\partial t^n}(x, 0) = D^n \\frac{\\partial^{2 n}}{\\partial x^{2 n}} \\frac{1}{2 \\pi} \\int_{-\\infty}^{+\\infty} e^{-i w (x - x_0)} \\mathrm{d} w = D^n \\frac{1}{2 \\pi} \\int_{-\\infty}^{+\\infty} \\frac{\\partial^{2 n}}{\\partial x^{2 n}} e^{-i w (x - x_0)} \\mathrm{d} w = \\frac{1}{2 \\pi} \\int_{-\\infty}^{+\\infty} (-Dw^2)^{n} e^{-i w (x - x_0)} \\mathrm{d} w$$\n",
    "Innsatt i taylorrekken, får vi da\n",
    "$$\\phi(x, t) = \\frac{1}{2 \\pi} \\sum_{n=0}^{\\infty} \\frac{t^n}{n!} \\int_{-\\infty}^{+\\infty} (-Dw^2)^{n} e^{-i w (x - x_0)} \\mathrm{d} w = \\frac{1}{2 \\pi} \\int_{-\\infty}^{+\\infty} \\sum_{n=0}^{\\infty} \\frac{(-D w^2 t)^n}{n!} e^{-i w (x - x_0)} \\mathrm{d} w = \\frac{1}{2 \\pi} \\int_{-\\infty}^{+\\infty} e^{-D w^2 t} e^{-i w (x - x_0)} \\mathrm{d} w$$\n",
    "der vi har byttet rekkefølge på integrasjonen og summasjonen og gjenkjent taylorrekken til eksponensialfunksjonen.\n",
    "Det siste integralet kan skrives om som\n",
    "$$\\phi(x, t) = \\frac{1}{2 \\pi} \\int_{-\\infty}^{+\\infty} e^{-(w \\sqrt{D t} + \\frac{i(x-x_0)}{2\\sqrt{Dt}})^2} e^{-\\frac{(x-x_0)^2}{4Dt}} \\mathrm{d}w$$\n",
    "Om vi innfører $z = w \\sqrt{Dt} + \\frac{i(x-x_0)}{2\\sqrt{Dt}}$, slik at $\\mathrm{d}w = \\mathrm{d}z/\\sqrt{Dt}$, får vi\n",
    "$$\\phi(x, t) = \\frac{1}{2 \\pi \\sqrt{Dt}} e^{-\\frac{(x-x_0)^2}{4Dt}} \\int_{-\\infty}^{+\\infty} e^{-z^2} \\mathrm{d}z$$\n",
    "Det kjente integralet har verdien $\\sqrt{\\pi}$, og vi får til slutt\n",
    "$$\\phi(x, t) = \\frac{1}{\\sqrt{4 \\pi D t}} e^{-\\frac{(x - x_0)^2}{4 D t}}$$\n",
    "\n",
    "#### Med fourieranalyse (alternativ løsningsmetode)\n",
    "\n",
    "Om en er kjent med Fourieranalyse, kan løsningen finnes med betydelig mindre arbeid ved å innføre en Fouriertransformasjon $\\hat{\\phi} = \\hat{\\phi}(w, t)$ av $\\phi$ med hensyn på kun posisjonen $x$.\n",
    "Siden $\\widehat{\\partial \\phi / \\partial t} = \\partial \\hat{\\phi} / \\partial t$ og $\\widehat{\\partial^2 \\phi / \\partial x^2} = (iw)^2 \\hat{\\phi}$, må fouriertransformasjonen oppfylle\n",
    "$$\\frac{\\partial \\hat{\\phi}(w, t)}{\\partial t} = -Dw^2 \\hat{\\phi}(w, t)$$\n",
    "som må bety\n",
    "$$\\hat{\\phi}(w, t) = Ae^{-Dw^2t}$$\n",
    "for en konstant $A$.\n",
    "Distribusjonen $\\phi$ må da være gitt ved den inverse fouriertransformasjonen\n",
    "$$\\phi(x, t) = \\frac{A}{\\sqrt{2 \\pi}} \\int_{-\\infty}^{+\\infty} e^{-Dw^2t}e^{iwx} \\mathrm{d}w$$\n",
    "som oppfyller initialbetingelsen om vi velger $A = 1/\\sqrt{2 \\pi}$ og gjør koordinatskiftet $x \\rightarrow x - x_0$.\n",
    "Vi kan så finne $\\phi$ ved å beregne integralet på samme måte som før, eller simpelthen slå opp den inverse fouriertransformasjonen av $\\hat{\\phi}$ i en tabell.\n",
    "\n",
    "### Oppgave 2.2.2 - fysisk tolkning av diffusjonskoeffisienten\n",
    "\n",
    "Med $\\sigma^2 = 2 D t$, er løsningen over\n",
    "$$\\phi = \\frac{1}{\\sqrt{2 \\pi \\sigma^2}} e^{-\\frac{(x - x_0)^2}{2 \\sigma^2}}$$\n",
    "som tilsvarer sannsynlighetsfordelingen til en normalfordeling med forventningsverdi $x_0$ og varianse $\\sigma^2$.\n",
    "Siden variansen vokser lineært med tiden og beskriver spredningen til fordelingen, er diffusjonskoeffisienten $D$ et mål på hvor raskt substansen diffunderer.\n",
    "\n",
    "### Oppgave 2.2.3 - diffusjon fra vilkårlig initiell spredning \n",
    "\n",
    "Diffusjonslikningen er lineær, slik at en lineær kombinasjon av flere løsninger også løser likningen.\n",
    "Vi kan utnytte denne egenskapen til å uttrykke distribusjonen ved et vilkårlig tidspunkt etter en initiell fordeling $\\phi(x, 0) = f(x)$ ved hjelp av den fundamentale løsningen vi fant i oppgave 2.2.1.\n",
    "\n",
    "Dersom\n",
    "$$\\phi(x, t) = \\frac{1}{\\sqrt{4 \\pi D t}} e^{-\\frac{(x - x_0)^2}{4 D t}}$$\n",
    "løser diffusjonslikningen med $\\phi(x, 0) = \\delta(x - x_0)$, vil lineærkombinasjonen\n",
    "$$\\phi(x, t) = \\frac{1}{\\sqrt{4 \\pi D t}} \\sum_{n=-\\infty}^{+\\infty} c_n e^{-\\frac{(x - x_n)^2}{4 D t}}$$\n",
    "være en løsning med initialbetingelsen $\\phi(x, 0) = \\sum_{n=-\\infty}^{+\\infty} c_n \\delta(x - x_n)$, og integralet\n",
    "$$\\phi(x, t) = \\frac{1}{\\sqrt{4 \\pi D t}} \\int_{-\\infty}^{+\\infty} f(y) e^{-\\frac{(x - y)^2}{4 D t}} \\mathrm{d}y$$\n",
    "vil være en løsning med en generell initiell distribusjon $\\phi(x, 0) = \\int_{-\\infty}^{+\\infty} g(y) \\delta(x - y) \\mathrm{d}y = f(x)$.\n",
    "Summasjonstegnet er enkelt og greit erstattet med et integral, mens $f(y) \\mathrm{d}y$ spiller rollen til konstantene $c_n$.\n",
    "\n",
    "## Oppgave 3 - virrevandring uten potensiale"
   ]
  },
  {
   "cell_type": "code",
   "execution_count": null,
   "metadata": {
    "collapsed": true
   },
   "outputs": [],
   "source": [
    "import numpy as np\n",
    "import matplotlib.pyplot as plt\n",
    "from scipy.stats import norm\n",
    "from scipy import constants as consts\n",
    "\n",
    "N = 1000\n",
    "n_steps = 100\n",
    "pos = np.zeros(N)\n",
    "    \n",
    "steps = np.random.randint(0, 2, size = (n_steps, N))*2 - 1 # Generate random sequence of +1 and -1\n",
    "step  = np.sum(steps, axis=0)\n",
    "\n",
    "pos += step\n",
    "\n",
    "mu,std = norm.fit(pos)\n",
    "\n",
    "n,bin,patches = plt.hist(pos, density = True)\n",
    "\n",
    "x = np.linspace(*plt.xlim(), 100)\n",
    "p = norm.pdf(x, mu, std)\n",
    "plt.plot(x, p)"
   ]
  },
  {
   "cell_type": "code",
   "execution_count": null,
   "metadata": {},
   "outputs": [],
   "source": [
    "def P_right(x, V):\n",
    "    ratio = np.exp(-beta*(V(x-1) - V(x+1)))\n",
    "    return 1/(1 + ratio)"
   ]
  },
  {
   "cell_type": "markdown",
   "metadata": {},
   "source": [
    "## Oppgave 5 - virrevandring i tidsuavhengig potensiale\n",
    "\n",
    "### Oppgave 5.1 - lineært potensiale"
   ]
  },
  {
   "cell_type": "code",
   "execution_count": null,
   "metadata": {
    "collapsed": true
   },
   "outputs": [],
   "source": [
    "def V_linear(x):\n",
    "    return k*x"
   ]
  },
  {
   "cell_type": "code",
   "execution_count": null,
   "metadata": {},
   "outputs": [],
   "source": [
    "def simulate(pos, V, n_steps = n_steps):\n",
    "    \"\"\"Finds pos after n_steps given starting pos and potential V\n",
    "    Parameters:\n",
    "     pos    : array of starting position for each particle. dtype=int.\n",
    "     V      : function V(x) giving potential at point x\n",
    "     n_steps: number of steps to run\n",
    "     \n",
    "    Returns:\n",
    "     pos    : positions for each particle after    \n",
    "    \"\"\"\n",
    "    # We use pos as index in P_right_pos, so it must have dtype int\n",
    "    assert pos.dtype == np.int64, \"Pos must have type int (int64)\"\n",
    "    \n",
    "    N = pos.shape[0]\n",
    "    rand = np.random.rand(n_steps, N)\n",
    "    x = np.arange(-n_steps, n_steps + 1) # Max possible pos\n",
    "    P_right_pos = P_right(x, V) # Probability of going right in each point\n",
    "    for t in range(n_steps): # Go through time\n",
    "        P = P_right_pos[pos] # Prob of going right for each particle\n",
    "        step = np.where(rand[t] <= P, 1, -1) # Step 1 if random_number < P, -1 else\n",
    "        pos += step\n",
    "    \n",
    "    return pos"
   ]
  },
  {
   "cell_type": "code",
   "execution_count": null,
   "metadata": {},
   "outputs": [],
   "source": [
    "N = 1000\n",
    "n_steps = 100\n",
    "pos = np.zeros(N, dtype=int)\n",
    "\n",
    "beta = 4\n",
    "k    = 0.1\n",
    "\n",
    "pos_after = simulate(pos, V_linear)\n",
    "\n",
    "plt.hist(pos_after)\n",
    "x = np.linspace(*plt.xlim())\n",
    "plt.plot(x, V_linear(x)+100)"
   ]
  },
  {
   "cell_type": "markdown",
   "metadata": {},
   "source": [
    "### Oppgave 5.2 - bokspotensiale"
   ]
  },
  {
   "cell_type": "code",
   "execution_count": null,
   "metadata": {},
   "outputs": [],
   "source": [
    "def V_membrane(x):\n",
    "    return np.where(np.logical_and(-3 < x, x < 3), k, 0)"
   ]
  },
  {
   "cell_type": "code",
   "execution_count": null,
   "metadata": {},
   "outputs": [],
   "source": [
    "beta = 10\n",
    "\n",
    "k = 100\n",
    "\n",
    "N = 1000\n",
    "n_steps = 10\n",
    "\n",
    "pos = np.zeros(N, dtype=int)\n",
    "\n",
    "pos_after = simulate(pos, V_membrane, n_steps = n_steps)\n",
    "plt.hist(pos_after, bins='auto')\n",
    "\n",
    "x = np.linspace(*plt.xlim())\n",
    "plt.plot(x, V_membrane(x))"
   ]
  },
  {
   "cell_type": "markdown",
   "metadata": {},
   "source": [
    "### Oppgave 5.3 - lineært potensiale med flate endestykker"
   ]
  },
  {
   "cell_type": "code",
   "execution_count": null,
   "metadata": {},
   "outputs": [],
   "source": [
    "def V_linear_edge(x):\n",
    "    # Alternatively reuse V_membrane here\n",
    "    return k * np.where(np.logical_and(-3 < x, x < 3),\\\n",
    "                                       -1 + 2*(x + 3)/6,\\\n",
    "                                       np.sign(x))"
   ]
  },
  {
   "cell_type": "code",
   "execution_count": null,
   "metadata": {},
   "outputs": [],
   "source": [
    "beta = 0.1\n",
    "\n",
    "k = 100\n",
    "\n",
    "N = 1000\n",
    "n_steps = 100\n",
    "\n",
    "pos = np.zeros(N, dtype=int)\n",
    "\n",
    "pos_after = simulate(pos, V_linear_edge, n_steps = n_steps)\n",
    "plt.hist(pos_after, bins=range(-30,30,2))\n",
    "x = np.linspace(*plt.xlim())\n",
    "plt.plot(x, V_linear_edge(x)*0.5 + 50)"
   ]
  },
  {
   "cell_type": "markdown",
   "metadata": {},
   "source": [
    "## Oppgave 7 - virrevandring av ioner i cellemembran med tidsavhengig potensiale\n",
    "\n",
    "### Oppgave 7.1 - identiske ionekanalpotensialer\n",
    "\n",
    "### Oppgave 7.2 - ulike ionekanalpotensialer\n",
    "\n",
    "## Oppgave 8 - simulering av aksjonspotensialet \n",
    "\n",
    "### Oppgave 8.1 - uten ionepumpe\n",
    "\n",
    "### Oppgave 8.2 - med ionepumpe"
   ]
  },
  {
   "cell_type": "code",
   "execution_count": null,
   "metadata": {
    "collapsed": true
   },
   "outputs": [],
   "source": []
  }
 ],
 "metadata": {
  "kernelspec": {
   "display_name": "Python 3",
   "language": "python",
   "name": "python3"
  },
  "language_info": {
   "codemirror_mode": {
    "name": "ipython",
    "version": 3
   },
   "file_extension": ".py",
   "mimetype": "text/x-python",
   "name": "python",
   "nbconvert_exporter": "python",
   "pygments_lexer": "ipython3",
   "version": "3.5.3"
  }
 },
 "nbformat": 4,
 "nbformat_minor": 2
}
