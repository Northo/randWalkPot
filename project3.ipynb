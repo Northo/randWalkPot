{
 "cells": [
  {
   "cell_type": "markdown",
   "metadata": {},
   "source": [
    "# Simulering av aksjonspotensialet med virrevandring av ioner\n",
    "\n",
    "Prosjekt 3 i TMA4320 våren 2019 - av Thorvald Ballestad, Jonas Bueie og Herman Sletmoen (gruppe 3)\n",
    "\n",
    "## Oppgave 2 - diffusjonslikningen\n",
    "\n",
    "### Oppgave 2.1 - eksponensiell løsning\n",
    "\n",
    "### Oppgave 2.2.1 - diffusjon fra initiell punktsamling\n",
    "\n",
    "### Oppgave 2.2.2 - fysisk tolkning av diffusjonskoeffisienten\n",
    "\n",
    "### Oppgave 2.2.3 - diffusjon fra vilkårlig initiell spredning \n",
    "\n",
    "## Oppgave 3 - virrevandring uten potensiale"
   ]
  },
  {
   "cell_type": "code",
   "execution_count": null,
   "metadata": {},
   "outputs": [],
   "source": [
    "import numpy as np\n",
    "import matplotlib.pyplot as plt\n",
    "from scipy.stats import norm\n",
    "from scipy import constants as consts\n",
    "\n",
    "N = 1000\n",
    "n_steps = 100\n",
    "pos = np.zeros(N)\n",
    "\n",
    "steps = np.random.randint(0, 2, size = (n_steps, N))*2 - 1 # Generate random sequence of +1 and -1\n",
    "step  = np.sum(steps, axis=0)\n",
    "\n",
    "pos += step\n",
    "\n",
    "mu,std = norm.fit(pos)\n",
    "\n",
    "n,bin,patches = plt.hist(pos, density = True)\n",
    "\n",
    "x = np.linspace(*plt.xlim(), 100)\n",
    "p = norm.pdf(x, mu, std)\n",
    "plt.plot(x, p)"
   ]
  },
  {
   "cell_type": "code",
   "execution_count": null,
   "metadata": {},
   "outputs": [],
   "source": [
    "def P_right(x, V):\n",
    "    ratio = np.exp(-beta*(V(x-1) - V(x+1)))\n",
    "    return 1/(1 + ratio)"
   ]
  },
  {
   "cell_type": "markdown",
   "metadata": {},
   "source": [
    "## Oppgave 5 - virrevandring i tidsuavhengig potensiale\n",
    "\n",
    "### Oppgave 5.1 - lineært potensiale"
   ]
  },
  {
   "cell_type": "code",
   "execution_count": null,
   "metadata": {},
   "outputs": [],
   "source": [
    "def V_linear(x):\n",
    "    return k*x"
   ]
  },
  {
   "cell_type": "code",
   "execution_count": null,
   "metadata": {},
   "outputs": [],
   "source": [
    "def simulate(pos, V, n_steps = n_steps):\n",
    "    \"\"\"Finds pos after n_steps given starting pos and potential V\n",
    "    Parameters:\n",
    "     pos    : array of starting position for each particle. dtype=int.\n",
    "     V      : function V(x) giving potential at point x\n",
    "     n_steps: number of steps to run\n",
    "     \n",
    "    Returns:\n",
    "     pos    : positions for each particle after    \n",
    "    \"\"\"\n",
    "    # We use pos as index in P_right_pos, so it must have dtype int\n",
    "    assert pos.dtype == np.int64, \"Pos must have type int (int64)\"\n",
    "    \n",
    "    N = pos.shape[0]\n",
    "    rand = np.random.rand(n_steps, N)\n",
    "    x = np.arange(-n_steps, n_steps + 1) # Max possible pos\n",
    "    P_right_pos = P_right(x, V) # Probability of going right in each point\n",
    "    for t in range(n_steps): # Go through time\n",
    "        P = P_right_pos[pos] # Prob of going right for each particle\n",
    "        step = np.where(rand[t] < P, 1, -1) # Step 1 if random_number < P, -1 else\n",
    "        pos += step\n",
    "    \n",
    "    return pos"
   ]
  },
  {
   "cell_type": "code",
   "execution_count": null,
   "metadata": {},
   "outputs": [],
   "source": [
    "N = 1000\n",
    "n_steps = 100\n",
    "pos = np.zeros(N, dtype=int)\n",
    "\n",
    "beta = 1\n",
    "k    = 1\n",
    "\n",
    "pos_after = simulate(pos, V_linear)\n",
    "\n",
    "plt.hist(pos_after)"
   ]
  },
  {
   "cell_type": "markdown",
   "metadata": {},
   "source": [
    "### Oppgave 5.2 - bokspotensiale"
   ]
  },
  {
   "cell_type": "code",
   "execution_count": null,
   "metadata": {},
   "outputs": [],
   "source": [
    "def V_membrane(x):\n",
    "    return np.where(np.logical_and(-3 < x, x < 3), k, 0)"
   ]
  },
  {
   "cell_type": "code",
   "execution_count": null,
   "metadata": {},
   "outputs": [],
   "source": [
    "beta = 1\n",
    "\n",
    "k = 100\n",
    "\n",
    "N = 1000\n",
    "n_steps = 30\n",
    "\n",
    "pos = np.zeros(N, dtype=int)\n",
    "\n",
    "pos_after = simulate(pos, V_membrane, n_steps = n_steps)\n",
    "plt.hist(pos_after)\n",
    "\n",
    "x = np.linspace(*plt.xlim())\n",
    "plt.plot(x, V_membrane(x))"
   ]
  },
  {
   "cell_type": "markdown",
   "metadata": {},
   "source": [
    "### Oppgave 5.3 - lineært potensiale med flate endestykker\n",
    "\n",
    "## Oppgave 7 - virrevandring av ioner i cellemembran med tidsavhengig potensiale\n",
    "\n",
    "### Oppgave 7.1 - identiske ionekanalpotensialer\n",
    "\n",
    "### Oppgave 7.2 - ulike ionekanalpotensialer\n",
    "\n",
    "## Oppgave 8 - simulering av aksjonspotensialet \n",
    "\n",
    "### Oppgave 8.1 - uten ionepumpe\n",
    "\n",
    "### Oppgave 8.2 - med ionepumpe"
   ]
  },
  {
   "cell_type": "code",
   "execution_count": null,
   "metadata": {},
   "outputs": [],
   "source": []
  }
 ],
 "metadata": {
  "kernelspec": {
   "display_name": "Python 3",
   "language": "python",
   "name": "python3"
  },
  "language_info": {
   "codemirror_mode": {
    "name": "ipython",
    "version": 3
   },
   "file_extension": ".py",
   "mimetype": "text/x-python",
   "name": "python",
   "nbconvert_exporter": "python",
   "pygments_lexer": "ipython3",
   "version": "3.7.2"
  }
 },
 "nbformat": 4,
 "nbformat_minor": 2
}
