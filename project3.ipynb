{
 "cells": [
  {
   "cell_type": "markdown",
   "metadata": {},
   "source": [
    "# Simulering av aksjonspotensialet med virrevandring av ioner\n",
    "\n",
    "Prosjekt 3 i TMA4320 våren 2019 - av Thorvald Ballestad, Jonas Bueie og Herman Sletmoen (gruppe 3)\n",
    "\n",
    "I denne prosjektoppgaven skal vi simulere aksjonspotensialet i celler, som er raske potensialvariasjoner mellom innsiden og utsiden av celler og som gjerne forplanter seg som et signal langs nerveceller.\n",
    "Aksjonspotensialet er en konsekvens av ioner som beveger seg inn og ut av celler gjennom cellemembranen i en diffusjonsprosess, påvirket av et elektrisk potensiale.\n",
    "\n",
    "Vi kommer først til å diskutere noe teori rundt diffusjon og simulere en ren diffusjonsprosess med virrevandring.\n",
    "Deretter simulerer vi diffusjonsprosessen i et elektrisk potensiale, før vi går løs på å simulere prosessen mellom inn- og utsiden av en cellemembran og til slutt selve aksjonspotensialet."
   ]
  },
  {
   "cell_type": "code",
   "execution_count": null,
   "metadata": {},
   "outputs": [],
   "source": [
    "import numpy as np\n",
    "import matplotlib.pyplot as plt\n",
    "from scipy.stats import norm\n",
    "from scipy import constants as consts\n",
    "\n",
    "\n",
    "# TODO: remove before handing in\n",
    "try:\n",
    "    heaviside = np.heaviside\n",
    "except:\n",
    "    def heaviside(x1, x2):\n",
    "        return np.where(x1 < 0, 0, np.where(x1 > 0, 1, x2))"
   ]
  },
  {
   "cell_type": "code",
   "execution_count": null,
   "metadata": {},
   "outputs": [],
   "source": [
    "# Setup plotting parameters\n",
    "newparams = {'axes.labelsize': 15,\n",
    "             'axes.linewidth': 1,\n",
    "             'lines.linewidth': 1.5, \n",
    "             'figure.figsize': (16, 8),\n",
    "             'ytick.labelsize': 15,\n",
    "             'xtick.labelsize': 15,\n",
    "             'ytick.major.pad': 5,\n",
    "             'xtick.major.pad': 5,\n",
    "             'legend.fontsize': 15,\n",
    "             'legend.frameon': True, \n",
    "             'legend.handlelength': 1.5,\n",
    "             'axes.titlesize': 20,\n",
    "             'mathtext.fontset': 'stix',\n",
    "             'font.family': 'STIXGeneral'}\n",
    "plt.rcParams.update(newparams)"
   ]
  },
  {
   "cell_type": "markdown",
   "metadata": {},
   "source": [
    "\n",
    "## Oppgave 2 - diffusjonslikningen\n",
    "\n",
    "Diffusjonslikningen i én dimensjon uttrykker at den romlige distribusjonen $\\phi = \\phi(x, t)$ over posisjonen $x$ av en substans som har diffundert i en tid $t$ oppfyller\n",
    "$$\\frac{\\partial \\phi(x, t)}{\\partial t} = \\frac{\\partial}{\\partial x} \\left(D(x) \\frac{\\partial \\phi(x, t)}{\\partial x}\\right),$$\n",
    "der $D(x)$ er en generelt posisjonsavhengig diffusjonskoeffisient.\n",
    "\n",
    "### Oppgave 2.1 - eksponensiell løsning\n",
    "\n",
    "Når $D(x) = D$ er posisjonsuavhengig, reduseres diffusjonslikningen til \n",
    "$$\\frac{\\partial \\phi(x, t)}{\\partial t} = D \\frac{\\partial^2 \\phi(x, t)}{\\partial x^2},$$\n",
    "Da er\n",
    "$$\\phi(x, t) = \\frac{1}{\\sqrt{4 \\pi D t}} e^{-\\frac{(x - x_0)^2}{4 D t}}$$\n",
    "en løsning av diffusjonslikningen, siden\n",
    "$$\\frac{\\partial \\phi(x, t)}{\\partial t} = D \\frac{\\partial^2 \\phi(x, t)}{\\partial x^2} = \\left(\\frac{(x-x_0)^2}{4Dt^2} - \\frac{1}{2t}\\right) \\frac{1}{\\sqrt{4 \\pi D t}} e^{-\\frac{(x - x_0)^2}{4 D t}}$$\n",
    "\n",
    "### Oppgave 2.2.1 - diffusjon fra initiell punktsamling\n",
    "\n",
    "Vi skal nå å finne distribusjonen $\\phi(x, t)$ ved et vilkårlig tidspunkt for en initiell punktsamling i $x_0$\n",
    "$$\\phi(x, 0) = \\delta(x - x_0) = \\frac{1}{2 \\pi} \\int_{-\\infty}^{+\\infty} e^{-i w (x - x_0)} \\mathrm{d} w,$$\n",
    "der $\\delta(x)$ er Diracs deltafunksjon.\n",
    "\n",
    "#### Med taylorutvikling\n",
    "\n",
    "Vi antar at distribusjonen i en gitt posisjon $x$ kan taylorutvikles om starttidspunktet $t = 0$ som\n",
    "$$\\phi(x, t) = \\sum_{n=0}^{\\infty} \\frac{t^n}{n!} \\frac{\\partial^n \\phi}{\\partial t^n}(x, 0).$$\n",
    "Den tidsderiverte av første orden ved et vilkårlig tidspunkt er gitt direkte ved diffusjonslikningen som\n",
    "$$\\frac{\\partial \\phi(x, t)}{\\partial t} = D \\frac{\\partial^2 \\phi(x, t)}{\\partial x^2}.$$\n",
    "Ved å utnytte diffusjonslikningen, og å bytte derivasjonsrekkefølge, finner vi den tidsderiverte av andre orden\n",
    "$$\\frac{\\partial^2 \\phi(x, t)}{\\partial t^2} = \\frac{\\partial}{\\partial t} D \\frac{\\partial^2 \\phi(x, t)}{\\partial x^2} = D \\frac{\\partial^2}{\\partial x^2}\\frac{\\partial \\phi(x, t)}{\\partial t} = D^2 \\frac{\\partial^4 \\phi(x, t)}{\\partial x^4}.$$\n",
    "Argumentet kan gjentas flere ganger, og vi får generelt\n",
    "$$\\frac{\\partial^n \\phi(x, t)}{\\partial t^n} = D^n \\frac{\\partial^{2 n} \\phi(x, t)}{\\partial x^{2 n}}.$$\n",
    "\n",
    "Ved $t = 0$ får vi\n",
    "$$\\frac{\\partial^n \\phi}{\\partial t^n}(x, 0) = D^n \\frac{\\partial^{2 n}}{\\partial x^{2 n}} \\frac{1}{2 \\pi} \\int_{-\\infty}^{+\\infty} e^{-i w (x - x_0)} \\mathrm{d} w = D^n \\frac{1}{2 \\pi} \\int_{-\\infty}^{+\\infty} \\frac{\\partial^{2 n}}{\\partial x^{2 n}} e^{-i w (x - x_0)} \\mathrm{d} w = \\frac{1}{2 \\pi} \\int_{-\\infty}^{+\\infty} (-Dw^2)^{n} e^{-i w (x - x_0)} \\mathrm{d} w.$$\n",
    "Ved innsetting av dette i taylorrekken, får vi at \n",
    "$$\\phi(x, t) = \\frac{1}{2 \\pi} \\sum_{n=0}^{\\infty} \\frac{t^n}{n!} \\int_{-\\infty}^{+\\infty} (-Dw^2)^{n} e^{-i w (x - x_0)} \\mathrm{d} w = \\frac{1}{2 \\pi} \\int_{-\\infty}^{+\\infty} \\sum_{n=0}^{\\infty} \\frac{(-D w^2 t)^n}{n!} e^{-i w (x - x_0)} \\mathrm{d} w = \\frac{1}{2 \\pi} \\int_{-\\infty}^{+\\infty} e^{-D w^2 t} e^{-i w (x - x_0)} \\mathrm{d} w.$$\n",
    "der vi har byttet rekkefølge på integrasjonen og summasjonen, og gjenkjent taylorrekken til eksponensialfunksjonen.\n",
    "Det siste integralet kan skrives som\n",
    "$$\\phi(x, t) = \\frac{1}{2 \\pi} \\int_{-\\infty}^{+\\infty} e^{-(w \\sqrt{D t} + \\frac{i(x-x_0)}{2\\sqrt{Dt}})^2} e^{-\\frac{(x-x_0)^2}{4Dt}} \\mathrm{d}w.$$\n",
    "\n",
    "Om vi innfører $z = w \\sqrt{Dt} + \\frac{i(x-x_0)}{2\\sqrt{Dt}}$, slik at $\\mathrm{d}w = \\mathrm{d}z/\\sqrt{Dt}$, får vi\n",
    "$$\\phi(x, t) = \\frac{1}{2 \\pi \\sqrt{Dt}} e^{-\\frac{(x-x_0)^2}{4Dt}} \\int_{-\\infty}^{+\\infty} e^{-z^2} \\mathrm{d}z.$$\n",
    "Integralet i denne likningen har verdien $\\sqrt{\\pi}$, og vi får til slutt\n",
    "$$\\phi(x, t) = \\frac{1}{\\sqrt{4 \\pi D t}} e^{-\\frac{(x - x_0)^2}{4 D t}}.$$\n",
    "\n",
    "#### Med fourieranalyse (alternativ løsningsmetode)\n",
    "\n",
    "Med Fourieranalyse kan løsningen finnes med betydelig mindre arbeid ved å innføre en Fouriertransformasjon $\\hat{\\phi} = \\hat{\\phi}(w, t)$ av $\\phi$ med hensyn kun på posisjonen $x$.\n",
    "Siden $\\widehat{\\partial \\phi / \\partial t} = \\partial \\hat{\\phi} / \\partial t$ og $\\widehat{\\partial^2 \\phi / \\partial x^2} = (iw)^2 \\hat{\\phi}$, må fouriertransformasjonen oppfylle\n",
    "$$\\frac{\\partial \\hat{\\phi}(w, t)}{\\partial t} = -Dw^2 \\hat{\\phi}(w, t),$$\n",
    "hvilket må bety at\n",
    "$$\\hat{\\phi}(w, t) = Ae^{-Dw^2t},$$\n",
    "for en konstant $A$.\n",
    "Distribusjonen $\\phi$ må da være gitt ved den inverse fouriertransformasjonen\n",
    "$$\\phi(x, t) = \\frac{A}{\\sqrt{2 \\pi}} \\int_{-\\infty}^{+\\infty} e^{-Dw^2t}e^{iwx} \\mathrm{d}w,$$\n",
    "som oppfyller initialbetingelsen dersom vi velger $A = 1/\\sqrt{2 \\pi}$ og gjør koordinatskiftet $x \\rightarrow x - x_0$.\n",
    "Vi kan så finne $\\phi$ ved å beregne integralet på samme måte som før, eller simpelthen ved å slå opp den inverse fouriertransformasjonen av $\\hat{\\phi}$ i en tabell.\n",
    "\n",
    "### Oppgave 2.2.2 - fysisk tolkning av diffusjonskoeffisienten\n",
    "\n",
    "Med $\\sigma^2 = 2 D t$, er løsningen \n",
    "$$\\phi = \\frac{1}{\\sqrt{2 \\pi \\sigma^2}} e^{-\\frac{(x - x_0)^2}{2 \\sigma^2}},$$\n",
    "som tilsvarer sannsynlighetsfordelingen til en normalfordeling med forventningsverdi $x_0$ og varians $\\sigma^2$.\n",
    "Siden variansen vokser lineært med tiden og beskriver spredningen til fordelingen, er diffusjonskoeffisienten $D$ et mål på hvor raskt substansen diffunderer.\n",
    "\n",
    "### Oppgave 2.2.3 - diffusjon fra vilkårlig initiell spredning \n",
    "\n",
    "Diffusjonslikningen er lineær, slik at en lineær kombinasjon av flere løsninger også løser likningen.\n",
    "Vi kan, ved hjelp av den fundamentale løsningen vi fant i oppgave 2.2.1, utnytte denne egenskapen til å uttrykke distribusjonen ved et vilkårlig tidspunkt $t$, gitt en initiell fordeling $\\phi(x, 0) = f(x).$\n",
    "\n",
    "Dersom\n",
    "$$\\phi(x, t) = \\frac{1}{\\sqrt{4 \\pi D t}} e^{-\\frac{(x - x_0)^2}{4 D t}}$$\n",
    "løser diffusjonslikningen med $\\phi(x, 0) = \\delta(x - x_0),$ vil lineærkombinasjonen\n",
    "$$\\phi(x, t) = \\frac{1}{\\sqrt{4 \\pi D t}} \\sum_{n=-\\infty}^{+\\infty} c_n e^{-\\frac{(x - x_n)^2}{4 D t}}$$\n",
    "være en løsning med initialbetingelsen $\\phi(x, 0) = \\sum_{n=-\\infty}^{+\\infty} c_n \\delta(x - x_n),$ og integralet\n",
    "$$\\phi(x, t) = \\frac{1}{\\sqrt{4 \\pi D t}} \\int_{-\\infty}^{+\\infty} f(y) e^{-\\frac{(x - y)^2}{4 D t}} \\mathrm{d}y$$\n",
    "vil være en løsning med en generell initiell distribusjon $\\phi(x, 0) = \\int_{-\\infty}^{+\\infty} g(y) \\delta(x - y) \\mathrm{d}y = f(x).$\n",
    "Summasjonstegnet er enkelt og greit erstattet med et integral, mens $f(y) \\mathrm{d}y$ spiller rollen til konstantene $c_n$.\n",
    "\n",
    "## Oppgave 3 - virrevandring uten potensiale\n",
    "\n",
    "I denne oppgaven lar vi 1000 partikler, som opprinnelig befinner seg samlet i origo, gjennomgå en virrevandringsprosess over 100 tidssteg.\n",
    "Ved hvert tidssteg hopper hver partikkel enten til høyre eller venstre med like stor sannsynlighet.\n",
    "Til slutt viser vi posisjonsfordelingen til alle partiklene i et histogram, og sammenlikner fordelingen med en normalkurve tilpasset dataene."
   ]
  },
  {
   "cell_type": "code",
   "execution_count": null,
   "metadata": {},
   "outputs": [],
   "source": [
    "N = 1000\n",
    "n_steps = 100\n",
    "\n",
    "plt.title(\"Distribution of %d initially gathered particles after %d random walk steps\" % (N, n_steps))\n",
    "plt.xlabel(\"Position\")\n",
    "plt.ylabel(\"Proportion of particles\")\n",
    "    \n",
    "# simulate random walk\n",
    "pos = np.zeros(N)\n",
    "steps = np.random.randint(0, 2, size=(n_steps, N))*2 - 1 # Generate random sequence of +1 and -1\n",
    "step  = np.sum(steps, axis=0)\n",
    "pos += step\n",
    "plt.hist(pos, normed = True, label=\"simulated\")\n",
    "\n",
    "# fit normal curve\n",
    "mean, stddev = norm.fit(pos)\n",
    "x = np.linspace(*plt.xlim(), 100)\n",
    "p = norm.pdf(x, mean, stddev)\n",
    "plt.plot(x, p, label=\"theoretical\")\n",
    "\n",
    "plt.legend()\n",
    "plt.show()"
   ]
  },
  {
   "cell_type": "markdown",
   "metadata": {},
   "source": [
    "Fra teorien i seksjon 1 i oppgaveteksten vet vi at virrevandring med infinitesimale tids- og posisjonssteg svarer til diffusjon, som beskrevet av diffusjonslikningen $^{[1]}$.\n",
    "Videre er det vist i oppgave 2 at den forventede posisjonsfordelingen til en samling partikler som diffunderer fra samme utgangspunkt, etter en tid $t$ er normalfordelt om startposisjonen, med en varians proporsjonal med $t$.\n",
    "Vi ser av figuren at den simulerte partikkelfordelingen og den tilpassede normalkurven samsvarer godt med hverandre og denne teorien."
   ]
  },
  {
   "cell_type": "markdown",
   "metadata": {},
   "source": [
    "## Oppgave 5 - virrevandring i tidsuavhengig potensiale\n",
    "\n",
    "I denne oppgaven simulerer vi en tilsvarende virrevandringsprosess som i oppgave 3, men her i et potensiale der sannsynligheten for å hoppe til venstre eller høyre fra et punkt avhenger av potensialet rundt punktet.\n",
    "Ved hjelp av statistisk mekanikk kan vises at sannsynligheten for at en partikkel beveger seg til høyre fra posisjonen $x$ i en slik virrevandringsprosess er\n",
    "$$P^+ = \\frac{1}{1 + e^{-\\beta (V(x-h)-V(x+h))}},$$\n",
    "der $\\beta = 1 / k_B T$ er invers termisk energi og $V(x \\mp h)$ er partikkelens potensielle energi i nabopunktene.\n",
    "Sannsynligheten for å hoppe til venstre er da\n",
    "$$P^- = 1 - P^+.$$\n",
    "Simuleringen vil gjøres med flere ulike potensialer, men ellers samme parametere og initialbetingelse som i oppgave 3.\n",
    "\n",
    "### Oppgave 5.1 - lineært potensiale\n",
    "\n",
    "Først simulerer vi virrevandringen til partikler med lineær potensiell energi\n",
    "$$V(x) = k x,$$\n",
    "for en konstant $k$, som representerer en konstant kraft på partiklene."
   ]
  },
  {
   "cell_type": "code",
   "execution_count": null,
   "metadata": {},
   "outputs": [],
   "source": [
    "def P_right(x, V, betak = 1):\n",
    "    ratio = np.exp(-betak * (V(x-1) - V(x+1)))\n",
    "    return 1/(1 + ratio)"
   ]
  },
  {
   "cell_type": "code",
   "execution_count": null,
   "metadata": {},
   "outputs": [],
   "source": [
    "def simulate(pos, V, n_steps = n_steps, betak = 1):\n",
    "    \"\"\"Finds pos after n_steps given starting pos and potential V\n",
    "    Parameters:\n",
    "     pos    : array of starting position for each particle. dtype=int.\n",
    "     V      : function V(x) giving potential at point x\n",
    "     n_steps: number of steps to run\n",
    "     \n",
    "    Returns:\n",
    "     pos    : positions for each particle after    \n",
    "    \"\"\"\n",
    "    # We use pos as index in P_right_pos, so it must have dtype int\n",
    "    assert pos.dtype == np.int64, \"Pos must have type int (int64)\"\n",
    "    \n",
    "    N = pos.shape[0]\n",
    "    \n",
    "    # rand is a n_steps x N-array with random numbers from the interval [0, 1),\n",
    "    # each row represents a step and each column a particle.\n",
    "    # We use this number to take a decision given a probability.\n",
    "    # ie. P(A) = P_A makes us do if (rand < P_a): A else: not A.\n",
    "    rand = np.random.rand(n_steps, N)\n",
    "    \n",
    "    # After n_steps this is the possible interval on which we can find a particle\n",
    "    x = np.arange(-n_steps, n_steps + 1)\n",
    "    \n",
    "    # The probability of going left/right in a given point is only dependent \n",
    "    # on the position, not time, so calculate probability of going right in each point\n",
    "    # for the given potential\n",
    "    P_right_pos = P_right(x, V, betak)\n",
    "    \n",
    "    pos = np.copy(pos) # Do not change the input array\n",
    "    \n",
    "    for t in range(n_steps): # Go through time\n",
    "        \n",
    "        # Prob of going right for each particle\n",
    "        # hint: numpy indexing is super fancy, so you can do\n",
    "        # i = np.array([3,3,8,2])\n",
    "        # A = np.arange(100)\n",
    "        # A[i] -> will return an array with elements 3, 3, 8, 2 from A!!!\n",
    "        # Add x[0] to index so that pos = -n_steps is shifted to pos = 0.\n",
    "        P = P_right_pos[pos - x[0]]\n",
    "        \n",
    "        # Decide to go either right or left\n",
    "        step = np.where(rand[t] <= P, 1, -1)\n",
    "        pos += step\n",
    "    \n",
    "    return pos\n",
    "\n",
    "class Tester:\n",
    "    \"\"\"Helper class to explore solutions by implementing the most common tasks.\n",
    "    Attempts to be so non-intrusive and flexible as possible\"\"\"\n",
    "    \n",
    "    def __init__(self, V_function, k_beta_list, n_steps = 100, N = 1000,\n",
    "                 subplots = True, horizontal = False):\n",
    "        # Simulation-relevant variables\n",
    "        self.V           = V_function\n",
    "        self.k_beta_list = k_beta_list\n",
    "        self.n_steps     = n_steps\n",
    "        self.N           = N\n",
    "        \n",
    "        # Meta/plotting variables\n",
    "        self.subplots    = subplots # Plot each k_beta-value in own subfig\n",
    "        self.n           = len(k_beta_list)\n",
    "        self.horizontal  = horizontal # Should subplots be horizontal?\n",
    "        self.has_simulated = False # Has the simulation been run?\n",
    "        \n",
    "        self.pos = np.zeros((self.n, N), dtype = int) # Create one row for each k_beta-value\n",
    "        \n",
    "    def simulate(self):\n",
    "        \"\"\"Simulate for each value of k_beta\"\"\"\n",
    "        \n",
    "        if self.has_simulated:\n",
    "            print(\"Warn: Simulation has already been run before!\")\n",
    "            \n",
    "        for i in range(self.pos.shape[0]):\n",
    "            self.pos[i] = simulate(self.pos[i], self.V, self.n_steps, self.k_beta_list[i])\n",
    "            \n",
    "        self.has_simulated = True\n",
    "    \n",
    "    def _gen_subplot_string(self, i):\n",
    "        grid = \"1\" + str(self.n) if self.horizontal else str(self.n) + \"1\" # 1xn or nx1 grid. This could probably have been written prettier, using reverse or something.\n",
    "        return grid + str(i)\n",
    "        \n",
    "    def plot(self):\n",
    "        for i, p in enumerate(self.pos):\n",
    "            if self.subplots:\n",
    "                plt.subplot(self._gen_subplot_string(i))\n",
    "                plt.title(\"$k \\\\beta:$ %r\" % self.k_beta_list[i])\n",
    "            #TODO: bins-calculation could be more sophisticated\n",
    "            plt.hist(p, bins=100)\n",
    "            \n",
    "        plt.tight_layout()\n",
    "        \n",
    "    def plot_potential(self, V_scale_factor = 1, V_shift = 0):\n",
    "        x = np.linspace(np.amin(self.pos), np.amax(self.pos), 100)\n",
    "        if self.subplots:\n",
    "            for i in range(self.n):\n",
    "                plt.subplot(self._gen_subplot_string(i))\n",
    "                xmin, xmax = plt.xlim() # Do not change xlim when plotting V\n",
    "                plt.plot(x, self.V(x) * V_scale_factor + V_shift)\n",
    "                plt.xlim(xmin, xmax)\n",
    "        else:\n",
    "            plt.plot(x, self.V(x) * V_scale_factor + V_shift)"
   ]
  },
  {
   "cell_type": "markdown",
   "metadata": {},
   "source": [
    "### Oppgave 5.1 - lineært potensiale\n",
    "\n",
    "Først simulerer vi virrevandringen i det lineære potensialet\n",
    "$$V(x) = k x$$\n",
    "for en konstant $k$, som representerer en konstant kraft på partiklene."
   ]
  },
  {
   "cell_type": "code",
   "execution_count": null,
   "metadata": {},
   "outputs": [],
   "source": [
    "def V_linear(x):\n",
    "    return x\n",
    "\n",
    "test = Tester(V_linear, [0.1, 1, 10], N = 1000, n_steps = 200, horizontal = True)\n",
    "test.plot()\n",
    "plt.show()  # We do not want plt.show() inside Tester, in order to get more flexibility \n",
    "            # (for example in case we want multiple plots within same fig)\n",
    "test.simulate()\n",
    "test.plot()\n",
    "test.plot_potential()\n",
    "plt.show()"
   ]
  },
  {
   "cell_type": "markdown",
   "metadata": {},
   "source": [
    "Figurene viser fordelingen av partikler før og etter diffusjonsprosessen, samt potensialfunksjonen, for tre ulike verdier av $k\\beta$. "
   ]
  },
  {
   "cell_type": "code",
   "execution_count": null,
   "metadata": {},
   "outputs": [],
   "source": [
    "lin_pot_tester = Tester(V_linear, [0.1, 1, 10], N = 1000, n_steps = 100, subplots = False)\n",
    "lin_pot_tester.simulate()\n",
    "lin_pot_tester.plot()\n",
    "lin_pot_tester.plot_potential()\n",
    "plt.show()"
   ]
  },
  {
   "cell_type": "markdown",
   "metadata": {},
   "source": [
    "Figuren viser posisjonsfordelingene for $k\\beta = 1$ og $k\\beta = 0$, samt den potensielle energien som funksjon av posisjon. Det fremkommer av denne og de tidligere figurene at partiklene vandrer lengre når termisk energi er liten. Når dette er tilfelle, er sannsynligheten for at en partikkel skal gå oppover potensialgradienten liten i ethvert punkt, slik at partiklene forflytter seg lengre i retning lavt potensial."
   ]
  },
  {
   "cell_type": "markdown",
   "metadata": {},
   "source": [
    "### Oppgave 5.2 - bokspotensiale\n",
    "\n",
    "Vi simulerer nå virrevandringsprosessen til partikler med potensiell energi\n",
    "$$V(x) = \\begin{cases} k & -3h < x < +3h \\\\ 0 & \\text{ellers} \\\\ \\end{cases}.$$\n",
    "Disse partikklene beveger seg uten påvirkning av krefter der potensialet er flatt, og utsettes for en krefter i overgangsområdene mellom disse flate regionene, når $x = \\pm 3h$."
   ]
  },
  {
   "cell_type": "code",
   "execution_count": null,
   "metadata": {},
   "outputs": [],
   "source": [
    "def V_membrane(x, d = 3):\n",
    "    return np.where(np.logical_and(-d < x, x < d), 1, 0)\n",
    "\n",
    "mem_pot_tester = Tester(V_membrane, [0.1, 1, 10], N = 10000, n_steps = 100, subplots = False)\n",
    "mem_pot_tester.simulate()\n",
    "mem_pot_tester.plot()\n",
    "mem_pot_tester.plot_potential(V_scale_factor = 50)\n",
    "plt.show()"
   ]
  },
  {
   "cell_type": "markdown",
   "metadata": {},
   "source": [
    "Figuren viser posisjonsfordelingen etter at diffusjonsprosessen er gjennomført, sammen med den tilhørende potensielle energifunksjonen. I alle posisjoner der den potensielle enrgien er flat, virker det ikke krefter på partiklene."
   ]
  },
  {
   "cell_type": "markdown",
   "metadata": {},
   "source": [
    "### Oppgave 5.3 - lineært potensiale med flate endestykker\n",
    "\n",
    "Her simulerer vi virrevandringsprosessen til partikler med potensiell energi\n",
    "$$V(x) = \\begin{cases} -k & x \\leq -3h \\\\ k \\left(-1 + 2 \\frac{x+3h}{6h} \\right) & -3h < x < +3h \\\\ +k & x \\geq +3h \\\\ \\end{cases}.$$\n",
    "Disse partiklene påvirkes av en konstant kraft i et avgrenset område (mellom $-3h$ og $3h$), men er ellers upåvirket."
   ]
  },
  {
   "cell_type": "code",
   "execution_count": null,
   "metadata": {},
   "outputs": [],
   "source": [
    "def V_linear_edge(x):\n",
    "    # Alternatively reuse V_membrane here\n",
    "    return np.where(np.logical_and(-3 < x, x < 3),\\\n",
    "                                   -1 + 2*(x + 3)/6,\\\n",
    "                                    np.sign(x))\n",
    "\n",
    "edge_pot_tester = Tester(V_linear_edge, [0.1, 1, 10], N = 10000, n_steps = 100, subplots = False)\n",
    "edge_pot_tester.simulate()\n",
    "edge_pot_tester.plot()\n",
    "edge_pot_tester.plot_potential(V_scale_factor = 50)\n",
    "plt.show()"
   ]
  },
  {
   "cell_type": "markdown",
   "metadata": {},
   "source": [
    "Figuren viser resultatet avv diffusjonsprosessen for nevnte potensielle energifunksjon, for to ulike verdier av $k\\beta$."
   ]
  },
  {
   "cell_type": "markdown",
   "metadata": {},
   "source": [
    "## Oppgave 7 og 8 - virrevandring av ioner i cellemembran med tidsavhengig potensiale og simulering av aksjonspotensialet"
   ]
  },
  {
   "cell_type": "code",
   "execution_count": null,
   "metadata": {
    "collapsed": false
   },
   "outputs": [],
   "source": [
    "def inside_concentration(pos):\n",
    "    cons_scaling_factor = 0.1 # mM, the concentration each particle represents\n",
    "    n_inside = len(pos[pos > 0])\n",
    "    return n_inside * cons_scaling_factor\n",
    "\n",
    "def outside_concentration(pos):\n",
    "    return inside_concentration(-pos)\n",
    "\n",
    "def V_diff(pos_Na, pos_K, conc_out, C):\n",
    "    conc_in = inside_concentration(pos_Na) + inside_concentration(pos_K)\n",
    "    conc_diff = conc_in - conc_out\n",
    "    return conc_diff / C\n",
    "\n",
    "def simulate_v2(V0_Na_beta=1, V0_K_beta=1, n_steps=1000, L=50, action_potential=False, pump=False):\n",
    "    C = 0.07e3 # e mM / V\n",
    "    T = 273 + 37 # K, body temperature\n",
    "    beta = 1 / (consts.k*T)\n",
    "    V0_Na = V0_Na_beta / beta\n",
    "    V0_K = V0_K_beta / beta\n",
    "\n",
    "    # Put ions in start positions (negative positions outside, positive positions inside)\n",
    "    N_Na_inside = 50\n",
    "    N_Na_outside = 1450\n",
    "    N_K_inside = 1400\n",
    "    N_K_outside = 50\n",
    "    N_Na = N_Na_inside + N_Na_outside\n",
    "    N_K = N_K_inside + N_K_outside\n",
    "    pos_Na = np.append(np.full(N_Na_outside, -L//4), np.full(N_Na_inside, +L//4))\n",
    "    pos_K = np.append(np.full(N_K_outside, -L//4), np.full(N_K_inside, +L//4))\n",
    "    \n",
    "    conc_out = outside_concentration(pos_Na) + outside_concentration(pos_K) # constant throughout sim\n",
    "      \n",
    "    if action_potential:\n",
    "        # Voltage limits for the action potential (Na- and K-gates)\n",
    "        V_beta_closed = 50 # Same for K and Na\n",
    "        V_closed = V_beta_closed / beta\n",
    "        lower_v_limit = -70e-3 # Volts\n",
    "        upper_v_limit = +30e-3 # Volts\n",
    "        \n",
    "        # Start with gates closed\n",
    "        V_Na = V_closed\n",
    "        V_K = V_closed\n",
    "    else:\n",
    "        V_Na = V0_Na\n",
    "        V_K = V0_K\n",
    "    \n",
    "    if pump:\n",
    "        n_Na_per_pumping = 3\n",
    "        n_K_per_pumping = 2\n",
    "        steps_per_pumping = 10\n",
    "        \n",
    "    x = np.arange(-L//2, +L//2 + 1) # all possible positions in simulation\n",
    "\n",
    "    v_diffs = []\n",
    "\n",
    "    for t in range(n_steps): # Go through time\n",
    "        v_diff = V_diff(pos_Na, pos_K, conc_out, C)\n",
    "        v_diffs.append(v_diff * consts.e * beta)\n",
    "        v_diff_array = v_diff * heaviside(x, 0.5) * consts.e\n",
    "        membrane = V_membrane(x, d=1)\n",
    "        \n",
    "        if action_potential:\n",
    "            if v_diff < lower_v_limit:\n",
    "                V_Na = V0_Na\n",
    "                V_K = V_closed\n",
    "            elif v_diff > upper_v_limit:\n",
    "                V_Na = V_closed\n",
    "                V_K = V0_K\n",
    "        \n",
    "        for V, pos in zip((V_Na, V_K), (pos_Na, pos_K)):\n",
    "            v_total = v_diff_array + V * membrane # total potential experienced by ion\n",
    "            prob_right_by_pos = 1 / (1 + np.exp(beta * (np.roll(v_total, -1) - np.roll(v_total, +1))))\n",
    "            prob_right_by_pos[-1] = 0 # force rightmost ions to jump left\n",
    "            prob_right_by_pos[0] = 1 # force leftmost ions to jump right\n",
    "            prob_right_by_ion = prob_right_by_pos[pos - x[0]]\n",
    "\n",
    "            # jump left/right with calculated probabilities\n",
    "            step = np.where(np.random.rand(len(pos)) <= prob_right_by_ion, +1, -1)\n",
    "            pos += step\n",
    "\n",
    "        if pump and t % steps_per_pumping == 0:\n",
    "            pos_Na[::+1].sort() # sort ascending\n",
    "            pos_K[::-1].sort() # sort descending\n",
    "            index_Na = np.argwhere(pos_Na > 0)[:n_Na_per_pumping] # pump ions closest to membrane\n",
    "            index_K = np.argwhere(pos_K < 0)[:n_K_per_pumping] # pump ions closest to membrane\n",
    "            pos_Na[index_Na] = -1 # pump Na ions out, place them just outside\n",
    "            pos_K[index_K] = +1 # pump K ions in, place them just inside\n",
    "                \n",
    "    return pos_Na, pos_K, v_diffs"
   ]
  },
  {
   "cell_type": "markdown",
   "metadata": {
    "collapsed": true
   },
   "source": [
    "### Oppgave 7.1 og 7.2 - virrevandring i cellemembran med identiske og ulike ionekanalpotensialer"
   ]
  },
  {
   "cell_type": "code",
   "execution_count": null,
   "metadata": {},
   "outputs": [],
   "source": [
    "ONE_FIG = True\n",
    "for V0_Na, V0_K in [(1,1), (10,1), (1,10)]:\n",
    "    pos_Na, pos_K, v_diffs = simulate_v2(V0_Na, V0_K)\n",
    "    label = \"$\\\\beta V_{Na}: \" + str(V0_Na) + \",\\\\quad \\\\beta V_{K}: \" + str(V0_K) + \"$\"\n",
    "    plt.plot(v_diffs, label=label)\n",
    "    if ONE_FIG:\n",
    "        plt.legend()\n",
    "    else:\n",
    "        plt.title(\"$\\\\beta V_{Na}: \" + str(V0_Na) + \",\\\\quad \\\\beta V_{K}: \" + str(V0_K) + \"$\")\n",
    "        plt.show()\n",
    "plt.show()"
   ]
  },
  {
   "cell_type": "markdown",
   "metadata": {},
   "source": [
    "### Oppgave 8.1 - aksjonspotensialet uten ionepumpe"
   ]
  },
  {
   "cell_type": "code",
   "execution_count": null,
   "metadata": {},
   "outputs": [],
   "source": [
    "pos_Na, pos_K, v_diffs = simulate_v2(action_potential=True, pump=False)\n",
    "plt.plot(v_diffs)\n",
    "plt.show()"
   ]
  },
  {
   "cell_type": "markdown",
   "metadata": {},
   "source": [
    "### Oppgave 8.2 - aksjonspotensialet med ionepumpe"
   ]
  },
  {
   "cell_type": "code",
   "execution_count": null,
   "metadata": {},
   "outputs": [],
   "source": [
    "pos_Na, pos_K, v_diffs = simulate_v2(action_potential=True, pump=True)\n",
    "plt.plot(v_diffs)\n",
    "plt.show()"
   ]
  },
  {
   "cell_type": "markdown",
   "metadata": {},
   "source": [
    "## Referanser\n",
    "[1] Simensen, Håkon T: *Prosjekt 3 - TMA4320 - Simulating the Action Potential with Random Walk of Ions.*"
   ]
  }
 ],
 "metadata": {
  "kernelspec": {
   "display_name": "Python 3",
   "language": "python",
   "name": "python3"
  },
  "language_info": {
   "codemirror_mode": {
    "name": "ipython",
    "version": 3
   },
   "file_extension": ".py",
   "mimetype": "text/x-python",
   "name": "python",
   "nbconvert_exporter": "python",
   "pygments_lexer": "ipython3",
   "version": "3.6.7"
  }
 },
 "nbformat": 4,
 "nbformat_minor": 2
}
